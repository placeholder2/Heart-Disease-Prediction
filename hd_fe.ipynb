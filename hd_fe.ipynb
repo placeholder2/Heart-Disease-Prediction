{
  "nbformat": 4,
  "nbformat_minor": 0,
  "metadata": {
    "colab": {
      "provenance": [],
      "toc_visible": true,
      "authorship_tag": "ABX9TyN69kWh0/YV0JOwGlPTNrcr",
      "include_colab_link": true
    },
    "kernelspec": {
      "name": "python3",
      "display_name": "Python 3"
    },
    "language_info": {
      "name": "python"
    }
  },
  "cells": [
    {
      "cell_type": "markdown",
      "metadata": {
        "id": "view-in-github",
        "colab_type": "text"
      },
      "source": [
        "<a href=\"https://colab.research.google.com/github/placeholder2/Heart-Disease-Prediction/blob/main/hd_fe.ipynb\" target=\"_parent\"><img src=\"https://colab.research.google.com/assets/colab-badge.svg\" alt=\"Open In Colab\"/></a>"
      ]
    },
    {
      "cell_type": "markdown",
      "source": [
        "# **Heart Disease Factors Feature Engineering**"
      ],
      "metadata": {
        "id": "tOWx2D9ymQOi"
      }
    },
    {
      "cell_type": "markdown",
      "source": [
        "## Importing Libraries and Data"
      ],
      "metadata": {
        "id": "GZIapfRWjKCE"
      }
    },
    {
      "cell_type": "code",
      "execution_count": null,
      "metadata": {
        "colab": {
          "base_uri": "https://localhost:8080/"
        },
        "id": "zcwQXOSMlEYC",
        "outputId": "e4c8b613-98b2-4512-83f2-141b609c0400"
      },
      "outputs": [
        {
          "output_type": "stream",
          "name": "stdout",
          "text": [
            "Drive already mounted at /content/drive; to attempt to forcibly remount, call drive.mount(\"/content/drive\", force_remount=True).\n"
          ]
        }
      ],
      "source": [
        "from google.colab import drive\n",
        "drive.mount('/content/drive');"
      ]
    },
    {
      "cell_type": "code",
      "source": [
        "import pandas as pd\n",
        "import numpy as np\n",
        "import matplotlib.pyplot as plt\n",
        "%matplotlib inline\n",
        "from scipy.stats import iqr,zscore\n",
        "import seaborn as sns\n",
        "import warnings\n",
        "warnings.filterwarnings('ignore')\n",
        "\n",
        "from sklearn.model_selection import train_test_split\n",
        "from sklearn.preprocessing import OrdinalEncoder,OneHotEncoder,LabelBinarizer\n",
        "from sklearn.compose import make_column_transformer\n",
        "import joblib"
      ],
      "metadata": {
        "id": "v2Qo5y-SlQOC"
      },
      "execution_count": null,
      "outputs": []
    },
    {
      "cell_type": "code",
      "source": [
        "# Plotting parameters\n",
        "plt.rcParams.update({\n",
        "    \"xtick.major.size\": 5,\n",
        "    \"xtick.major.pad\": 20,\n",
        "    \"xtick.labelsize\": 15,\n",
        "    \"ytick.labelsize\": 15,\n",
        "    \"grid.color\": \"0.5\",\n",
        "    \"grid.linestyle\": \"-\",\n",
        "    \"grid.linewidth\": 5,\n",
        "    \"lines.linewidth\": 2,\n",
        "    \"lines.color\": \"g\",\n",
        "    \"figure.figsize\": (14,7),\n",
        "    'axes.titlesize': 25,\n",
        "    'axes.titlepad' : 20,\n",
        "    'figure.autolayout': True,\n",
        "})\n",
        "plt.style.use('bmh')\n",
        "\n",
        "# List of colors\n",
        "colors = plt.rcParams['axes.prop_cycle'].by_key()['color']"
      ],
      "metadata": {
        "id": "D7BphufSlSGW"
      },
      "execution_count": null,
      "outputs": []
    },
    {
      "cell_type": "code",
      "source": [
        "df = pd.read_csv('/content/drive/MyDrive/data/heart_2020_cleaned.csv')"
      ],
      "metadata": {
        "id": "noeSi6zulWRL"
      },
      "execution_count": null,
      "outputs": []
    },
    {
      "cell_type": "markdown",
      "source": [
        "## **Removing Columns**\n",
        "Based on statistical inference in previous notebook three columns in the dataset have no relevance to the target variable"
      ],
      "metadata": {
        "id": "sn1M9cVtjr3L"
      }
    },
    {
      "cell_type": "code",
      "source": [
        "# Shape of raw dataset\n",
        "df.shape"
      ],
      "metadata": {
        "colab": {
          "base_uri": "https://localhost:8080/"
        },
        "id": "PCYm6kjgqm94",
        "outputId": "55d626b9-2ac6-496e-9fd8-cbbe7f1efa26"
      },
      "execution_count": null,
      "outputs": [
        {
          "output_type": "execute_result",
          "data": {
            "text/plain": [
              "(319795, 18)"
            ]
          },
          "metadata": {},
          "execution_count": 5
        }
      ]
    },
    {
      "cell_type": "code",
      "source": [
        "# Dropping columns\n",
        "df.drop(['MentalHealth', 'AlcoholDrinking', 'Race'], axis = 1, inplace=True)"
      ],
      "metadata": {
        "id": "5cOwam1nlrCN"
      },
      "execution_count": null,
      "outputs": []
    },
    {
      "cell_type": "code",
      "source": [
        "# Shape of without dropped columns\n",
        "df.shape"
      ],
      "metadata": {
        "colab": {
          "base_uri": "https://localhost:8080/"
        },
        "id": "FbETF8L6qrOC",
        "outputId": "94626f7b-8d78-4a40-d0ad-35b1cd13bf18"
      },
      "execution_count": null,
      "outputs": [
        {
          "output_type": "execute_result",
          "data": {
            "text/plain": [
              "(319795, 15)"
            ]
          },
          "metadata": {},
          "execution_count": 7
        }
      ]
    },
    {
      "cell_type": "markdown",
      "source": [
        "## **Removing Outliers**\n",
        "Using z-score"
      ],
      "metadata": {
        "id": "i6yi184vmXe-"
      }
    },
    {
      "cell_type": "code",
      "source": [
        "def plot_kde(col):\n",
        "  '''Function making kdeplot'''\n",
        "\n",
        "  plot = sns.kdeplot(col,data = df,fill = True,legend = False)\n",
        "  plot.set(xlabel=None)\n",
        "  plt.title(col)\n",
        "\n",
        "  return plot"
      ],
      "metadata": {
        "id": "zeC6r4pGyWuF"
      },
      "execution_count": null,
      "outputs": []
    },
    {
      "cell_type": "code",
      "source": [
        "def grid(title):\n",
        "  '''Function plotting distribution of numerical columns'''\n",
        "  \n",
        "  gs = plt.GridSpec(2, 2,hspace = 2.5)\n",
        "\n",
        "  plt.figure()\n",
        "  plt.suptitle(title,fontsize=16)\n",
        "\n",
        "  ax = plt.subplot(gs[0, 0]) \n",
        "  plot_kde('PhysicalHealth')\n",
        "\n",
        "  ax = plt.subplot(gs[0, 1]) \n",
        "  plot_kde('SleepTime')\n",
        "\n",
        "  ax = plt.subplot(gs[1, :]) \n",
        "  plot_kde('BMI')\n",
        "  plt.show"
      ],
      "metadata": {
        "id": "y_m148TZ-AVB"
      },
      "execution_count": null,
      "outputs": []
    },
    {
      "cell_type": "code",
      "source": [
        "grid('Distribiution with outliers')"
      ],
      "metadata": {
        "colab": {
          "base_uri": "https://localhost:8080/",
          "height": 497
        },
        "id": "CZfIUodg3gqx",
        "outputId": "e0ccd103-dfb3-47b8-ccdc-b56b924a0855"
      },
      "execution_count": null,
      "outputs": [
        {
          "output_type": "display_data",
          "data": {
            "text/plain": [
              "<Figure size 1008x504 with 3 Axes>"
            ],
            "image/png": "[encoded data removed]"
          },
          "metadata": {
            "needs_background": "light"
          }
        }
      ]
    },
    {
      "cell_type": "code",
      "source": [
        "# Removing outliers\n",
        "df = df[(np.abs(zscore(df.select_dtypes(exclude='object'))) < 3).all(axis=1)]"
      ],
      "metadata": {
        "id": "esi0LIZHosq2"
      },
      "execution_count": null,
      "outputs": []
    },
    {
      "cell_type": "code",
      "source": [
        "# Shape without outliers\n",
        "df.shape"
      ],
      "metadata": {
        "colab": {
          "base_uri": "https://localhost:8080/"
        },
        "id": "2rtwSV6ownCJ",
        "outputId": "0c03463a-eb1b-4cef-996e-93eb77295209"
      },
      "execution_count": null,
      "outputs": [
        {
          "output_type": "execute_result",
          "data": {
            "text/plain": [
              "(292783, 15)"
            ]
          },
          "metadata": {},
          "execution_count": 12
        }
      ]
    },
    {
      "cell_type": "code",
      "source": [
        "grid('Distribiution without outliers')"
      ],
      "metadata": {
        "colab": {
          "base_uri": "https://localhost:8080/",
          "height": 497
        },
        "id": "UofAgv5V24Qz",
        "outputId": "b2a1174e-4c86-41df-9b15-085ecbfe15a6"
      },
      "execution_count": null,
      "outputs": [
        {
          "output_type": "display_data",
          "data": {
            "text/plain": [
              "<Figure size 1008x504 with 3 Axes>"
            ],
            "image/png": "[encoded data removed]"
          },
          "metadata": {
            "needs_background": "light"
          }
        }
      ]
    },
    {
      "cell_type": "markdown",
      "source": [
        "## **Splitting dataset**"
      ],
      "metadata": {
        "id": "BdIuFszzPVej"
      }
    },
    {
      "cell_type": "code",
      "source": [
        "# X/y split\n",
        "X = df.drop(columns = ['HeartDisease']).copy()\n",
        "y = df['HeartDisease']\n",
        "# Train/test/validation split\n",
        "X_train, X_rem, y_train, y_rem = train_test_split(X,y, train_size=0.8)\n",
        "X_valid, X_test, y_valid, y_test = train_test_split(X_rem,y_rem, test_size=0.5)"
      ],
      "metadata": {
        "id": "O64ahH6RTQaB"
      },
      "execution_count": null,
      "outputs": []
    },
    {
      "cell_type": "code",
      "source": [
        "def print_shape():\n",
        "  '''Function printing shape of all splitted sets'''\n",
        "  \n",
        "  Shape =  f'Shape of:\\nX_train: {X_train.shape}\\ny_train: {y_train.shape}\\\n",
        "            \\nX_test: {X_test.shape}\\ny_test: {y_test.shape}\\\n",
        "            \\nX_valid: {X_valid.shape}\\ny_valid:{y_valid.shape}'\n",
        "\n",
        "  print(Shape)"
      ],
      "metadata": {
        "id": "TZsNEv-MUw0c"
      },
      "execution_count": null,
      "outputs": []
    },
    {
      "cell_type": "code",
      "source": [
        "# Shape after splitting\n",
        "print_shape()"
      ],
      "metadata": {
        "colab": {
          "base_uri": "https://localhost:8080/"
        },
        "id": "cPf8LbNqiWK2",
        "outputId": "2bddbf12-f068-46c2-c767-6cea191169b2"
      },
      "execution_count": null,
      "outputs": [
        {
          "output_type": "stream",
          "name": "stdout",
          "text": [
            "Shape of:\n",
            "X_train: (234226, 14)\n",
            "y_train: (234226,)            \n",
            "X_test: (29279, 14)\n",
            "y_test: (29279,)            \n",
            "X_valid: (29278, 14)\n",
            "y_valid:(29278,)\n"
          ]
        }
      ]
    },
    {
      "cell_type": "markdown",
      "source": [
        "## **Transforming Columns**"
      ],
      "metadata": {
        "id": "sA2Si0raTPzv"
      }
    },
    {
      "cell_type": "code",
      "source": [
        "# Ordinal columns\n",
        "health = ['Poor','Fair','Good','Very good','Excellent']\n",
        "age = [[age for age in df['AgeCategory'].unique()]]\n",
        "age.sort()\n",
        "# Categorical columns\n",
        "cat_cols = [col for col in X.select_dtypes(include='object')]"
      ],
      "metadata": {
        "id": "NJaPWWOpVDZU"
      },
      "execution_count": null,
      "outputs": []
    },
    {
      "cell_type": "code",
      "source": [
        "# Creating transformer\n",
        "transformer = make_column_transformer(\n",
        "    (OrdinalEncoder(categories=[health]), ['GenHealth']),\n",
        "    (OrdinalEncoder(categories=age), ['AgeCategory']),\n",
        "    (OneHotEncoder(), cat_cols),\n",
        "    remainder='passthrough')"
      ],
      "metadata": {
        "id": "hhKU8qCabFJB"
      },
      "execution_count": null,
      "outputs": []
    },
    {
      "cell_type": "code",
      "source": [
        "# Transforming columns\n",
        "transformer.fit(X_train)\n",
        "X_train = transformer.transform(X_train)\n",
        "X_test = transformer.transform(X_test)\n",
        "X_valid = transformer.transform(X_valid)"
      ],
      "metadata": {
        "id": "2aYbk4S_YE5X"
      },
      "execution_count": null,
      "outputs": []
    },
    {
      "cell_type": "code",
      "source": [
        "# Encoding target\n",
        "lb = LabelBinarizer()\n",
        "\n",
        "lb.fit(y_train)\n",
        "y_train = lb.transform(y_train)\n",
        "y_test = lb.transform(y_test)\n",
        "y_valid = lb.transform(y_valid)"
      ],
      "metadata": {
        "id": "MoclJ6RcTFN8"
      },
      "execution_count": null,
      "outputs": []
    },
    {
      "cell_type": "code",
      "source": [
        "# Shape after transforming\n",
        "print_shape()"
      ],
      "metadata": {
        "id": "6xTiXtRphil4",
        "colab": {
          "base_uri": "https://localhost:8080/"
        },
        "outputId": "ef687a09-0648-40e5-c9fe-a3b0e3cc92be"
      },
      "execution_count": null,
      "outputs": [
        {
          "output_type": "stream",
          "name": "stdout",
          "text": [
            "Shape of:\n",
            "X_train: (234226, 43)\n",
            "y_train: (234226, 1)            \n",
            "X_test: (29279, 43)\n",
            "y_test: (29279, 1)            \n",
            "X_valid: (29278, 43)\n",
            "y_valid:(29278, 1)\n"
          ]
        }
      ]
    },
    {
      "cell_type": "markdown",
      "source": [
        "## **Saving The Results**"
      ],
      "metadata": {
        "id": "s5tKwwsNocBl"
      }
    },
    {
      "cell_type": "code",
      "source": [
        "# Saving the results\n",
        "dataset_dict = {\"X_train\": X_train,\"y_train\": y_train, \n",
        "                \"X_test\": X_test,\"y_test\": y_test,\n",
        "                \"X_valid\": X_valid,\"y_valid\": y_valid}\n",
        "\n",
        "joblib.dump(transformer, 'transformer.pkl')\n",
        "joblib.dump(dataset_dict, 'dataset_dict.pkl');"
      ],
      "metadata": {
        "id": "qgpo1xXbk6J_"
      },
      "execution_count": null,
      "outputs": []
    },
    {
      "cell_type": "code",
      "source": [
        "# Writing bash script\n",
        "sh = \"\"\"\n",
        "# !/bin/bash\n",
        ": '\n",
        "Script to move pickle files to project folder\n",
        "'\n",
        "\n",
        "FILES=$(find . -type f -name \"*.pkl\")\n",
        "\n",
        "for file in $FILES; do\n",
        "    mv $file '/content/drive/MyDrive/Colab Notebooks/HD'\n",
        "    echo 'Done'\n",
        "done;\n",
        "\"\"\"\n",
        "with open('script.sh', 'w') as file:\n",
        "  file.write(sh)\n",
        "\n",
        "# Executing script\n",
        "!bash script.sh"
      ],
      "metadata": {
        "id": "l-xluVZaVDTW",
        "colab": {
          "base_uri": "https://localhost:8080/"
        },
        "outputId": "b98446f5-d342-4509-a198-3366a630a743"
      },
      "execution_count": null,
      "outputs": [
        {
          "output_type": "stream",
          "name": "stdout",
          "text": [
            "Done\n",
            "Done\n"
          ]
        }
      ]
    }
  ]
}